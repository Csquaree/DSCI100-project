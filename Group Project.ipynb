{
 "cells": [
  {
   "cell_type": "code",
   "execution_count": 8,
   "metadata": {},
   "outputs": [],
   "source": [
    "# load libraries\n",
    "library(tidyverse)\n",
    "library(testthat)\n",
    "library(digest)\n",
    "library(repr)\n",
    "library(tidymodels)\n",
    "options(repr.matrix.max.rows = 6)"
   ]
  },
  {
   "cell_type": "code",
   "execution_count": 6,
   "metadata": {},
   "outputs": [
    {
     "ename": "ERROR",
     "evalue": "Error in read_csv(\"DSCI100/heart.csv\"): could not find function \"read_csv\"\n",
     "output_type": "error",
     "traceback": [
      "Error in read_csv(\"DSCI100/heart.csv\"): could not find function \"read_csv\"\nTraceback:\n"
     ]
    }
   ],
   "source": [
    "# read in data\n",
    "\n",
    "heart <- read_csv(\"DSCI100/heart.csv\")\n",
    "heart"
   ]
  },
  {
   "cell_type": "code",
<<<<<<< HEAD
=======
   "execution_count": 9,
   "metadata": {},
   "outputs": [
    {
     "name": "stderr",
     "output_type": "stream",
     "text": [
      "Parsed with column specification:\n",
      "cols(\n",
      "  Age = \u001b[32mcol_double()\u001b[39m,\n",
      "  Sex = \u001b[31mcol_character()\u001b[39m,\n",
      "  ChestPainType = \u001b[31mcol_character()\u001b[39m,\n",
      "  RestingBP = \u001b[32mcol_double()\u001b[39m,\n",
      "  Cholesterol = \u001b[32mcol_double()\u001b[39m,\n",
      "  FastingBS = \u001b[32mcol_double()\u001b[39m,\n",
      "  RestingECG = \u001b[31mcol_character()\u001b[39m,\n",
      "  MaxHR = \u001b[32mcol_double()\u001b[39m,\n",
      "  ExerciseAngina = \u001b[31mcol_character()\u001b[39m,\n",
      "  Oldpeak = \u001b[32mcol_double()\u001b[39m,\n",
      "  ST_Slope = \u001b[31mcol_character()\u001b[39m,\n",
      "  HeartDisease = \u001b[32mcol_double()\u001b[39m\n",
      ")\n",
      "\n"
     ]
    },
    {
     "data": {
      "text/html": [
       "<table>\n",
       "<caption>A spec_tbl_df: 918 × 12</caption>\n",
       "<thead>\n",
       "\t<tr><th scope=col>Age</th><th scope=col>Sex</th><th scope=col>ChestPainType</th><th scope=col>RestingBP</th><th scope=col>Cholesterol</th><th scope=col>FastingBS</th><th scope=col>RestingECG</th><th scope=col>MaxHR</th><th scope=col>ExerciseAngina</th><th scope=col>Oldpeak</th><th scope=col>ST_Slope</th><th scope=col>HeartDisease</th></tr>\n",
       "\t<tr><th scope=col>&lt;dbl&gt;</th><th scope=col>&lt;chr&gt;</th><th scope=col>&lt;chr&gt;</th><th scope=col>&lt;dbl&gt;</th><th scope=col>&lt;dbl&gt;</th><th scope=col>&lt;dbl&gt;</th><th scope=col>&lt;chr&gt;</th><th scope=col>&lt;dbl&gt;</th><th scope=col>&lt;chr&gt;</th><th scope=col>&lt;dbl&gt;</th><th scope=col>&lt;chr&gt;</th><th scope=col>&lt;dbl&gt;</th></tr>\n",
       "</thead>\n",
       "<tbody>\n",
       "\t<tr><td>40</td><td>M</td><td>ATA</td><td>140</td><td>289</td><td>0</td><td>Normal</td><td>172</td><td>N</td><td>0</td><td>Up  </td><td>0</td></tr>\n",
       "\t<tr><td>49</td><td>F</td><td>NAP</td><td>160</td><td>180</td><td>0</td><td>Normal</td><td>156</td><td>N</td><td>1</td><td>Flat</td><td>1</td></tr>\n",
       "\t<tr><td>37</td><td>M</td><td>ATA</td><td>130</td><td>283</td><td>0</td><td>ST    </td><td> 98</td><td>N</td><td>0</td><td>Up  </td><td>0</td></tr>\n",
       "\t<tr><td>⋮</td><td>⋮</td><td>⋮</td><td>⋮</td><td>⋮</td><td>⋮</td><td>⋮</td><td>⋮</td><td>⋮</td><td>⋮</td><td>⋮</td><td>⋮</td></tr>\n",
       "\t<tr><td>57</td><td>M</td><td>ASY</td><td>130</td><td>131</td><td>0</td><td>Normal</td><td>115</td><td>Y</td><td>1.2</td><td>Flat</td><td>1</td></tr>\n",
       "\t<tr><td>57</td><td>F</td><td>ATA</td><td>130</td><td>236</td><td>0</td><td>LVH   </td><td>174</td><td>N</td><td>0.0</td><td>Flat</td><td>1</td></tr>\n",
       "\t<tr><td>38</td><td>M</td><td>NAP</td><td>138</td><td>175</td><td>0</td><td>Normal</td><td>173</td><td>N</td><td>0.0</td><td>Up  </td><td>0</td></tr>\n",
       "</tbody>\n",
       "</table>\n"
      ],
      "text/latex": [
       "A spec\\_tbl\\_df: 918 × 12\n",
       "\\begin{tabular}{llllllllllll}\n",
       " Age & Sex & ChestPainType & RestingBP & Cholesterol & FastingBS & RestingECG & MaxHR & ExerciseAngina & Oldpeak & ST\\_Slope & HeartDisease\\\\\n",
       " <dbl> & <chr> & <chr> & <dbl> & <dbl> & <dbl> & <chr> & <dbl> & <chr> & <dbl> & <chr> & <dbl>\\\\\n",
       "\\hline\n",
       "\t 40 & M & ATA & 140 & 289 & 0 & Normal & 172 & N & 0 & Up   & 0\\\\\n",
       "\t 49 & F & NAP & 160 & 180 & 0 & Normal & 156 & N & 1 & Flat & 1\\\\\n",
       "\t 37 & M & ATA & 130 & 283 & 0 & ST     &  98 & N & 0 & Up   & 0\\\\\n",
       "\t ⋮ & ⋮ & ⋮ & ⋮ & ⋮ & ⋮ & ⋮ & ⋮ & ⋮ & ⋮ & ⋮ & ⋮\\\\\n",
       "\t 57 & M & ASY & 130 & 131 & 0 & Normal & 115 & Y & 1.2 & Flat & 1\\\\\n",
       "\t 57 & F & ATA & 130 & 236 & 0 & LVH    & 174 & N & 0.0 & Flat & 1\\\\\n",
       "\t 38 & M & NAP & 138 & 175 & 0 & Normal & 173 & N & 0.0 & Up   & 0\\\\\n",
       "\\end{tabular}\n"
      ],
      "text/markdown": [
       "\n",
       "A spec_tbl_df: 918 × 12\n",
       "\n",
       "| Age &lt;dbl&gt; | Sex &lt;chr&gt; | ChestPainType &lt;chr&gt; | RestingBP &lt;dbl&gt; | Cholesterol &lt;dbl&gt; | FastingBS &lt;dbl&gt; | RestingECG &lt;chr&gt; | MaxHR &lt;dbl&gt; | ExerciseAngina &lt;chr&gt; | Oldpeak &lt;dbl&gt; | ST_Slope &lt;chr&gt; | HeartDisease &lt;dbl&gt; |\n",
       "|---|---|---|---|---|---|---|---|---|---|---|---|\n",
       "| 40 | M | ATA | 140 | 289 | 0 | Normal | 172 | N | 0 | Up   | 0 |\n",
       "| 49 | F | NAP | 160 | 180 | 0 | Normal | 156 | N | 1 | Flat | 1 |\n",
       "| 37 | M | ATA | 130 | 283 | 0 | ST     |  98 | N | 0 | Up   | 0 |\n",
       "| ⋮ | ⋮ | ⋮ | ⋮ | ⋮ | ⋮ | ⋮ | ⋮ | ⋮ | ⋮ | ⋮ | ⋮ |\n",
       "| 57 | M | ASY | 130 | 131 | 0 | Normal | 115 | Y | 1.2 | Flat | 1 |\n",
       "| 57 | F | ATA | 130 | 236 | 0 | LVH    | 174 | N | 0.0 | Flat | 1 |\n",
       "| 38 | M | NAP | 138 | 175 | 0 | Normal | 173 | N | 0.0 | Up   | 0 |\n",
       "\n"
      ],
      "text/plain": [
       "    Age Sex ChestPainType RestingBP Cholesterol FastingBS RestingECG MaxHR\n",
       "1   40  M   ATA           140       289         0         Normal     172  \n",
       "2   49  F   NAP           160       180         0         Normal     156  \n",
       "3   37  M   ATA           130       283         0         ST          98  \n",
       "⋮   ⋮   ⋮   ⋮             ⋮         ⋮           ⋮         ⋮          ⋮    \n",
       "916 57  M   ASY           130       131         0         Normal     115  \n",
       "917 57  F   ATA           130       236         0         LVH        174  \n",
       "918 38  M   NAP           138       175         0         Normal     173  \n",
       "    ExerciseAngina Oldpeak ST_Slope HeartDisease\n",
       "1   N              0       Up       0           \n",
       "2   N              1       Flat     1           \n",
       "3   N              0       Up       0           \n",
       "⋮   ⋮              ⋮       ⋮        ⋮           \n",
       "916 Y              1.2     Flat     1           \n",
       "917 N              0.0     Flat     1           \n",
       "918 N              0.0     Up       0           "
      ]
     },
     "metadata": {},
     "output_type": "display_data"
    }
   ],
   "source": [
    "heart <- read_csv(\"heart.csv\")\n",
    "heart"
   ]
  },
  {
   "cell_type": "code",
>>>>>>> db22b8e26fc90f15be6097c2811ae992507c796d
   "execution_count": null,
   "metadata": {},
   "outputs": [],
   "source": []
  }
 ],
 "metadata": {
  "kernelspec": {
   "display_name": "R",
   "language": "R",
   "name": "ir"
  },
  "language_info": {
   "codemirror_mode": "r",
   "file_extension": ".r",
   "mimetype": "text/x-r-source",
   "name": "R",
   "pygments_lexer": "r",
   "version": "4.0.0"
  }
 },
 "nbformat": 4,
 "nbformat_minor": 4
}
